{
  "nbformat": 4,
  "nbformat_minor": 0,
  "metadata": {
    "colab": {
      "provenance": []
    },
    "kernelspec": {
      "name": "python3",
      "display_name": "Python 3"
    },
    "language_info": {
      "name": "python"
    }
  },
  "cells": [
    {
      "cell_type": "code",
      "execution_count": null,
      "metadata": {
        "colab": {
          "base_uri": "https://localhost:8080/",
          "height": 386
        },
        "id": "0r84FDJa2ID5",
        "outputId": "8c2eca42-6250-449c-b455-3cd7a482b990"
      },
      "outputs": [
        {
          "output_type": "error",
          "ename": "ModuleNotFoundError",
          "evalue": "No module named 'flask_sqlalchemy'",
          "traceback": [
            "\u001b[0;31m---------------------------------------------------------------------------\u001b[0m",
            "\u001b[0;31mModuleNotFoundError\u001b[0m                       Traceback (most recent call last)",
            "\u001b[0;32m<ipython-input-1-38c77c0e2268>\u001b[0m in \u001b[0;36m<cell line: 4>\u001b[0;34m()\u001b[0m\n\u001b[1;32m      2\u001b[0m \u001b[0;32mfrom\u001b[0m \u001b[0mbs4\u001b[0m \u001b[0;32mimport\u001b[0m \u001b[0mBeautifulSoup\u001b[0m\u001b[0;34m\u001b[0m\u001b[0;34m\u001b[0m\u001b[0m\n\u001b[1;32m      3\u001b[0m \u001b[0;32mfrom\u001b[0m \u001b[0mflask\u001b[0m \u001b[0;32mimport\u001b[0m \u001b[0mFlask\u001b[0m\u001b[0;34m\u001b[0m\u001b[0;34m\u001b[0m\u001b[0m\n\u001b[0;32m----> 4\u001b[0;31m \u001b[0;32mfrom\u001b[0m \u001b[0mflask_sqlalchemy\u001b[0m \u001b[0;32mimport\u001b[0m \u001b[0mSQLAlchemy\u001b[0m\u001b[0;34m\u001b[0m\u001b[0;34m\u001b[0m\u001b[0m\n\u001b[0m\u001b[1;32m      5\u001b[0m \u001b[0;32mimport\u001b[0m \u001b[0mspacy\u001b[0m\u001b[0;34m\u001b[0m\u001b[0;34m\u001b[0m\u001b[0m\n\u001b[1;32m      6\u001b[0m \u001b[0;34m\u001b[0m\u001b[0m\n",
            "\u001b[0;31mModuleNotFoundError\u001b[0m: No module named 'flask_sqlalchemy'",
            "",
            "\u001b[0;31m---------------------------------------------------------------------------\u001b[0;32m\nNOTE: If your import is failing due to a missing package, you can\nmanually install dependencies using either !pip or !apt.\n\nTo view examples of installing some common dependencies, click the\n\"Open Examples\" button below.\n\u001b[0;31m---------------------------------------------------------------------------\u001b[0m\n"
          ],
          "errorDetails": {
            "actions": [
              {
                "action": "open_url",
                "actionText": "Open Examples",
                "url": "/notebooks/snippets/importing_libraries.ipynb"
              }
            ]
          }
        }
      ],
      "source": [
        "import requests\n",
        "from bs4 import BeautifulSoup\n",
        "from flask import Flask\n",
        "from flask_sqlalchemy import SQLAlchemy\n",
        "import spacy\n",
        "\n",
        "if __name__ == \"__main__\":\n",
        "    app.run(debug=True)\n",
        "\n",
        "\n",
        "nlp = spacy.load(\"en_core_web_sm\")\n",
        "app = Flask(__name__)\n",
        "db_path = 'news.sqlite'\n",
        "app.config['SQLALCHEMY_DATABASE_URI'] = f'sqlite:///{db_path}'\n",
        "db = SQLAlchemy(app)\n",
        "\n",
        "class News(db.Model):\n",
        "    id = db.Column(db.Integer, primary_key=True)\n",
        "    url = db.Column(db.String())\n",
        "    title = db.Column(db.String())\n",
        "    description = db.Column(db.String())\n",
        "    category = db.Column(db.String())\n",
        "\n",
        "def categorize(text):\n",
        "    doc = nlp(text)\n",
        "    if 'war' in [token.text for token in doc]:\n",
        "        return 'war'\n",
        "    elif 'crime' in [token.text for token in doc]:\n",
        "        return 'crime'\n",
        "    # Add more categories here...\n",
        "    else:\n",
        "        return 'uncategorized'\n",
        "\n",
        "@app.route('/scrape')\n",
        "def scrape():\n",
        "    with open('websites.txt', 'r') as file:\n",
        "        urls = [line.strip() for line in file]\n",
        "\n",
        "    for url in urls:\n",
        "        res = requests.get(url)\n",
        "        soup = BeautifulSoup(res.text, 'html.parser')\n",
        "\n",
        "        # Fetch metadata (Open Graph tags)\n",
        "        og_title = soup.find('meta', property='og:title')['content'] if soup.find('meta', property='og:title') else None\n",
        "        og_description = soup.find('meta', property='og:description')['content'] if soup.find('meta', property='og:description') else None\n",
        "\n",
        "        # Categorize based on SEO tags\n",
        "        category = categorize(og_title + ' ' + (og_description if og_description else ''))\n",
        "\n",
        "        news = News(url=url, title=og_title, description=og_description, category=category)\n",
        "        db.session.add(news)\n",
        "    db.session.commit()\n",
        "\n",
        "    return 'Scraping and categorizing done!'\n"
      ]
    }
  ]
}